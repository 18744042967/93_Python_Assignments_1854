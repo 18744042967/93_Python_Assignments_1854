{
 "cells": [
  {
   "cell_type": "markdown",
   "metadata": {},
   "source": [
    "    JLUFE                                                     Spring 2021 (Feb-July) \n",
    "\n",
    "                             Final Assignment Report        \n",
    "                                 \n",
    "                          \n",
    "                     JILIN UNIVERSITY OF FINANCE AND ECONOMICS  \n",
    "\n",
    "      Department of College of Managment Science and Information Engineering\n",
    "           \n",
    "                   information management and information system\n",
    "                                  \n",
    "                                     (2021)\n",
    "                                          \n",
    "                              \n",
    "                                   \n",
    "                            Final Assignment: Part 01\n",
    "                                          \n",
    "                                   21/06/2021\n",
    "                                      \n",
    "                              MODULE: Data Mining \n",
    "                               \n",
    "                  Submitted by: John(刘强) 0314021805412(1854)\n",
    "                                 QQ: 2546235153\n",
    "                            Github ID: 18744042967"
   ]
  },
  {
   "cell_type": "markdown",
   "metadata": {},
   "source": [
    "# Instructions:\n",
    "\n",
    "1. I have added tips and required learning resources for each question, which helps you to solve the exercise. \n",
    "\n",
    "2. Finish the assignment on your **OWN** (**Any student find copying/sharing from classmates or internet will get '0' points!!!**)\n",
    "\n",
    "3. Open the assignment from the **[Github Clasroom link](https://classroom.github.com/a/yFXO50A4)** This will create private repository of the assignment in your Github account.\n",
    "\n",
    "4. In your repository **`Clone`** -> **`Download ZIP`** in your computer.\n",
    "\n",
    "5. Change your: **Major**, **Name**, **Student number**, **Class number**, **QQ number** and **GitHub ID**\n",
    "\n",
    "6. Once you finish the Assignment **[convert your .ipynb file into PDF](https://github.com/milaan9/91_Python_Tips/blob/main/000_Convert_Jupyter_Notebook_to_PDF.ipynb)** (both .pynb and .pdf file will be required!)\n",
    "\n",
    "7. Create Folder name \"Solution\" and copy your 3 files:\n",
    "    1. Your Jupyter Notebook file (**.ipynb**).\n",
    "    2. Your PDF converted file (**.pdf**).\n",
    "    3. **.zip** file containing both .ipynb and .pdf files and name your .zip file as your student number and name. For example: **0318021907632 Milan(米兰).zip**\n",
    "    \n",
    "8. Finally, in your repository **`Add files`** -> **`upload files`** upload the \"**Solution**\" folder and **`Commit changes`**."
   ]
  },
  {
   "cell_type": "markdown",
   "metadata": {},
   "source": [
    "# Python Assignment 01"
   ]
  },
  {
   "cell_type": "markdown",
   "metadata": {},
   "source": [
    "### Question 1: \n",
    "\n",
    "Write a python program that generates a list containing only common elements between the two lists (without duplicates). Make sure your program works on two lists of different sizes.\n",
    "\n",
    "Expected Output:\n",
    "```\n",
    "List 1: [0, 2, 4, 6, 12, 13, 14, 18, 20, 24, 25, 26, 27]\n",
    "List 2: [0, 4, 7, 9, 10, 11, 13, 14, 17, 18, 20, 33, 39]\n",
    "List of common elements are:  [0, 4, 13, 14, 18, 20]\n",
    "```\n",
    "\n",
    "For extra points:\n",
    "1. Generate the two list randomly to test this\n",
    "2. Generate each list in one line of Python."
   ]
  },
  {
   "cell_type": "code",
   "execution_count": 34,
   "metadata": {
    "ExecuteTime": {
     "end_time": "2021-07-15T12:10:41.837615Z",
     "start_time": "2021-07-15T12:10:41.829646Z"
    }
   },
   "outputs": [
    {
     "name": "stdout",
     "output_type": "stream",
     "text": [
      "List 1: [17, 17, 10, 19, 30, 3, 14, 28, 22, 4, 6, 16, 27]\n",
      "List 2: [0, 6, 39, 21, 5, 22, 11, 12, 26, 37, 21, 7, 17, 19, 17]\n",
      "List of common elements are:  [17, 19, 6, 22]\n"
     ]
    }
   ],
   "source": [
    "# Solution 1: \n",
    "import random\n",
    "del list\n",
    "random_list1 = [random.randint(0, 30) for i in range(13)]\n",
    "random_list2 = [random.randint(0, 40) for i in range(15)]\n",
    "set1 = set(random_list1) & set(random_list2) \n",
    "print('List 1: '+str(random_list1))\n",
    "print('List 2: '+str(random_list2))\n",
    "print('List of common elements are:  '+str(list(set1)))\n",
    "\n"
   ]
  },
  {
   "cell_type": "markdown",
   "metadata": {},
   "source": [
    "### Question 2: \n",
    "\n",
    "Write a python program to find the gravitational force acting between two objects.\n",
    "\n",
    "\\begin{equation*}\n",
    "F=G\\frac{{m_1}{m_2}}{{r^2}}\n",
    "\\end{equation*}\n",
    "\n",
    "Expected Output:\n",
    "```\n",
    "Enter the first mass (m1): 5000000\n",
    "Enter the second mass (m2): 900000\n",
    "Enter the distance between the centres of the masses (N): 30\n",
    "Hence, the Gravitational Force is:  0.33 N\n",
    "```"
   ]
  },
  {
   "cell_type": "code",
   "execution_count": 25,
   "metadata": {
    "ExecuteTime": {
     "end_time": "2021-07-15T11:43:01.402840Z",
     "start_time": "2021-07-15T11:42:42.837710Z"
    }
   },
   "outputs": [
    {
     "name": "stdout",
     "output_type": "stream",
     "text": [
      "Enter the first mass (m1): 5000000\n",
      "Enter the first mass (m2): 900000\n",
      "Enter the distance between the centres of the masses (N): 30\n",
      "Hence, the Gravitational Force is:  3.335N\n"
     ]
    }
   ],
   "source": [
    "# Solution 2: \n",
    "quality1=float(input('Enter the first mass (m1): '))\n",
    "quality2=float(input('Enter the first mass (m2): '))\n",
    "distance=float(input('Enter the distance between the centres of the masses (N): '))\n",
    "G = 6.67*10E-11\n",
    "F=G*quality1*quality2/(distance**2)\n",
    "print('Hence, the Gravitational Force is:  {}N'.format(str(F)))\n",
    "\n"
   ]
  },
  {
   "cell_type": "markdown",
   "metadata": {},
   "source": [
    "### Question 3: \n",
    "\n",
    "Write a python program that generates a new list that contains only even elements from the randomly generated list.\n",
    "\n",
    "Expected Output:\n",
    "```\n",
    "Randomly generated list: [64, 63, 90, 13, 38, 27, 19, 51, 97, 32, 18, 75]\n",
    "List of even elements: [64, 90, 38, 32, 18]\n",
    "```"
   ]
  },
  {
   "cell_type": "code",
   "execution_count": 3,
   "metadata": {
    "ExecuteTime": {
     "end_time": "2021-07-15T10:43:13.428368Z",
     "start_time": "2021-07-15T10:43:13.419393Z"
    }
   },
   "outputs": [
    {
     "name": "stdout",
     "output_type": "stream",
     "text": [
      "Randomly generated list:[78, 36, 98, 52, 30, 30, 37, 61, 6, 8, 81, 90]\n",
      "List of even elements:[78, 36, 98, 52, 30, 30, 6, 8, 90]\n"
     ]
    }
   ],
   "source": [
    "# Solution 3: \n",
    "import random\n",
    "lst = [random.randint(0,100) for i in range(12)]\n",
    "print(\"Randomly generated list:\"+str(lst))\n",
    "i = len(lst)-1\n",
    "while i>=0:\n",
    "    if lst[i]%2==1:\n",
    "        del lst[i]\n",
    "    i -= 1\n",
    "print(\"List of even elements:\"+str(lst))\n",
    "\n"
   ]
  },
  {
   "cell_type": "markdown",
   "metadata": {},
   "source": [
    "### Question 4: \n",
    "\n",
    "Write a python program to check if a substring is present in a given string.\n",
    "\n",
    "Expected Output:\n",
    "```\n",
    "Enter string: Hello world\n",
    "Enter word: world\n",
    "Substring in string!\n",
    "```"
   ]
  },
  {
   "cell_type": "code",
   "execution_count": 44,
   "metadata": {
    "ExecuteTime": {
     "end_time": "2021-07-15T12:20:49.740086Z",
     "start_time": "2021-07-15T12:20:25.735238Z"
    }
   },
   "outputs": [
    {
     "name": "stdout",
     "output_type": "stream",
     "text": [
      "Enter string: Hello World\n",
      "Enter world: World\n",
      "Substring in string!\n"
     ]
    }
   ],
   "source": [
    "# Solution 4: \n",
    "str1=input('Enter string: ')\n",
    "a=input('Enter world: ')\n",
    "if a in str1:\n",
    "    print('Substring in string!')\n",
    "else:\n",
    "    print('Substring not in string!')\n",
    "\n"
   ]
  },
  {
   "cell_type": "markdown",
   "metadata": {},
   "source": [
    "### Question 5: \n",
    "\n",
    "Write a python program that asks the user last 2 digit of (your) student number and generates Fibonacci series.\n",
    "\n",
    "Expected Output:\n",
    "```\n",
    "How many numbers that generates?: 12\n",
    "Fibonacci series:\n",
    " [1, 1, 2, 3, 5, 8, 13, 21, 34, 55, 89, 144]\n",
    "```"
   ]
  },
  {
   "cell_type": "code",
   "execution_count": 5,
   "metadata": {
    "ExecuteTime": {
     "end_time": "2021-07-15T10:45:07.732300Z",
     "start_time": "2021-07-15T10:45:01.750719Z"
    }
   },
   "outputs": [
    {
     "name": "stdout",
     "output_type": "stream",
     "text": [
      "How many numbers that generates?:12\n",
      "Fibonacci series:\n",
      "1 1 2 3 5 8 13 21 34 55 89 144 "
     ]
    }
   ],
   "source": [
    "# Solution 5: \n",
    "def fib(n):\n",
    "    list = [1,1]\n",
    "    a,b = 1,1\n",
    "    for i in range(2,n+1):\n",
    "        a,b=b,a+b \n",
    "        list.append(b)\n",
    "    return list\n",
    "\n",
    "while True:\n",
    "    try:\n",
    "        x = int(input('How many numbers that generates?:'))\n",
    "        if x <= 0:\n",
    "            print('长度输入不合法!')\n",
    "            continue\n",
    "        else:\n",
    "            sum = 0\n",
    "            list = fib(x) # 调用前面写的fib函数\n",
    "            print('Fibonacci series:'.format(x))\n",
    "            for j in range(0,x):\n",
    "                print(list[j],end=' ')\n",
    "            break\n",
    "    except ValueError:\n",
    "        print ('长度输入不合法!')\n",
    "        continue\n"
   ]
  },
  {
   "cell_type": "markdown",
   "metadata": {},
   "source": [
    "### Question 6: \n",
    "\n",
    "Write a python program using function that generates a new list that contains all the elements of the first list and removing all the duplicates.\n",
    "\n",
    "Expected Output:\n",
    "```\n",
    "List:  [1, 2, 3, 4, 3, 2, 1]\n",
    "Result List using loop:  [1, 2, 3, 4]\n",
    "Result List using sets:  [1, 2, 3, 4]\n",
    "```\n",
    "\n",
    "For extra points:\n",
    "1. Generate the result using two different functions using:\n",
    "    - one using a loop and constructing a list\n",
    "    - sets"
   ]
  },
  {
   "cell_type": "code",
   "execution_count": 45,
   "metadata": {
    "ExecuteTime": {
     "end_time": "2021-07-15T12:21:30.439223Z",
     "start_time": "2021-07-15T12:21:30.432241Z"
    }
   },
   "outputs": [
    {
     "name": "stdout",
     "output_type": "stream",
     "text": [
      "List:  [5, 5, 6, 9, 8, 2, 5, 9, 1, 10]\n",
      "Result List using loop:  [5, 6, 9, 8, 2, 1, 10]\n",
      "Result List using sets:  [1, 2, 5, 6, 8, 9, 10]\n"
     ]
    }
   ],
   "source": [
    "# Solution 6: \n",
    "\n",
    "def diff_number(handle_list):\n",
    "    listx1 = []\n",
    "    for i in handle_list:\n",
    "        if i not in listx1:\n",
    "            listx1.append(i)\n",
    "    return listx1\n",
    "import random\n",
    "random_listx =[random.randint(0, 10) for i in range(10)]\n",
    "print('List:  '+str(random_listx))\n",
    "unique_list2=list(set(random_listx))        \n",
    "print('Result List using loop:  '+str(diff_number(random_listx)))\n",
    "print('Result List using sets:  '+str(unique_list2))\n",
    "\n"
   ]
  },
  {
   "cell_type": "markdown",
   "metadata": {},
   "source": [
    "### Question 7: \n",
    "\n",
    "Write a python program using functions that asks the user for a string containing multiple words and print back to the user the same string, except with the words in reverse order.\n",
    "\n",
    "Expected Output:\n",
    "```\n",
    "Please enter a sentence: My name is Milaan\n",
    "The reverse sentence is: Milaan is name My\n",
    "```"
   ]
  },
  {
   "cell_type": "code",
   "execution_count": 46,
   "metadata": {
    "ExecuteTime": {
     "end_time": "2021-07-15T12:25:39.070452Z",
     "start_time": "2021-07-15T12:25:20.074317Z"
    }
   },
   "outputs": [
    {
     "name": "stdout",
     "output_type": "stream",
     "text": [
      "Please enter a sentence: My name is Jhon\n",
      "The reverse sentence is: Jhon is name My\n"
     ]
    }
   ],
   "source": [
    "# Solution 7: \n",
    "def preverse_word(s):\n",
    "    list1 = s.split(' ')\n",
    "    e=' '.join(list1[::-1])\n",
    "    return e\n",
    "enter1 = input('Please enter a sentence: ')\n",
    "print('The reverse sentence is: '+preverse_word(enter1))\n",
    "\n"
   ]
  },
  {
   "cell_type": "markdown",
   "metadata": {},
   "source": [
    "### Question 8: \n",
    "\n",
    "Write a python program using function that encrypts a given input with these steps:\n",
    "\n",
    "Input: \"apple\"\n",
    "\n",
    "* Step 1: Reverse the input: \"elppa\"\n",
    "* Step 2: Replace all vowels using the following chart:\n",
    "\n",
    "```python\n",
    "a => 0\n",
    "e => 1\n",
    "i => 2\n",
    "o => 2\n",
    "u => 3\n",
    "# 1lpp0\n",
    "```\n",
    "\n",
    "* Step 3: Add \"aca\" to the end of the word: \"1lpp0aca\"\n",
    "\n",
    "Expected Output:\n",
    "```\n",
    "Word:  apple\n",
    "Encrypted word: 1lpp0aca\n",
    "```\n",
    "\n",
    "More Examples:\n",
    "```\n",
    "encrypt(\"banana\") ➞ \"0n0n0baca\"\n",
    "encrypt(\"karaca\") ➞ \"0c0r0kaca\"\n",
    "encrypt(\"burak\") ➞ \"k0r3baca\"\n",
    "encrypt(\"alpaca\") ➞ \"0c0pl0aca\"\n",
    "```"
   ]
  },
  {
   "cell_type": "code",
   "execution_count": 47,
   "metadata": {
    "ExecuteTime": {
     "end_time": "2021-07-15T12:26:28.039512Z",
     "start_time": "2021-07-15T12:26:23.278308Z"
    }
   },
   "outputs": [
    {
     "name": "stdout",
     "output_type": "stream",
     "text": [
      "Word:  banana\n",
      "Encrypted word: 0n0n0baca\n"
     ]
    }
   ],
   "source": [
    "# Solution 8: \n",
    "def made(word):\n",
    "    n =word[::-1]\n",
    "    if 'a' in n:\n",
    "        n=n.replace('a','0')\n",
    "    if 'e' in n:\n",
    "        n=n.replace('e','1')\n",
    "    if 'i' in n:\n",
    "        n=n.replace('i','2')\n",
    "    if 'o' in n:\n",
    "        n=n.replace('o','2')\n",
    "    if 'u' in n:\n",
    "        n=n.replace('u','3')\n",
    "    password=n+'aca'\n",
    "    return password\n",
    "a = input('Word:  ')\n",
    "print('Encrypted word: '+made(a))\n",
    "\n"
   ]
  },
  {
   "cell_type": "markdown",
   "metadata": {},
   "source": [
    "### Question 9: \n",
    "\n",
    "Write a python program using function that takes a number num and returns its length.\n",
    "\n",
    "Expected Output:\n",
    "```\n",
    "Enter number: 963969\n",
    "Total digits in given number:  6\n",
    "```"
   ]
  },
  {
   "cell_type": "code",
   "execution_count": 9,
   "metadata": {
    "ExecuteTime": {
     "end_time": "2021-07-15T10:47:39.152532Z",
     "start_time": "2021-07-15T10:47:29.894361Z"
    }
   },
   "outputs": [
    {
     "name": "stdout",
     "output_type": "stream",
     "text": [
      "Enter number: 963969\n",
      "Total digits in given number:  6\n"
     ]
    }
   ],
   "source": [
    "# Solution 9: \n",
    "enter_number = input('Enter number: ')\n",
    "number_length = len(enter_number)\n",
    "print('Total digits in given number:  ' +str(number_length))\n",
    "\n"
   ]
  },
  {
   "cell_type": "markdown",
   "metadata": {},
   "source": [
    "### Question 10: \n",
    "\n",
    "Write a python program using function that takes a string and returns the number (count) of vowels contained within it.\n",
    "\n",
    "Expected Output:\n",
    "```\n",
    "Enter string: Celebration\n",
    "Total vowels in the string: 5\n",
    "Identified vowels are:  ['e', 'e', 'a', 'i', 'o']\n",
    "```\n",
    "\n",
    "More examples:\n",
    "```\n",
    "count_vowels(\"Palm\") ➞ 1\n",
    "count_vowels(\"Prediction\") ➞ 4\n",
    "```"
   ]
  },
  {
   "cell_type": "code",
   "execution_count": 49,
   "metadata": {
    "ExecuteTime": {
     "end_time": "2021-07-15T12:28:41.850743Z",
     "start_time": "2021-07-15T12:28:37.024652Z"
    }
   },
   "outputs": [
    {
     "name": "stdout",
     "output_type": "stream",
     "text": [
      "Enter string: Palm\n",
      "Total vowels in the string: 1\n",
      "Identified vowels are:  ['a']\n"
     ]
    }
   ],
   "source": [
    "# Solution 10: \n",
    "def count_vowels(word):\n",
    "    vowels=[]\n",
    "    for i in word:\n",
    "        if 'a' == i:\n",
    "            vowels.append(i)\n",
    "        elif 'e' == i:\n",
    "            vowels.append(i)\n",
    "        elif 'i' == i:\n",
    "            vowels.append(i)\n",
    "        elif 'o' == i:\n",
    "            vowels.append(i)\n",
    "        elif 'u' == i:\n",
    "            vowels.append(i)\n",
    "    return vowels\n",
    "e= input('Enter string: ')\n",
    "list1=count_vowels(e)\n",
    "print('Total vowels in the string: '+ str(len(list1)))\n",
    "print('Identified vowels are:  '+str(list1))\n",
    "\n"
   ]
  },
  {
   "cell_type": "markdown",
   "metadata": {},
   "source": [
    "### Question 11:\n",
    "\n",
    "Write a python program to draw pattern as below:\n",
    "\n",
    "Expected Output:\n",
    "```\n",
    "--- --- --- \n",
    "|   |   |   |\n",
    " --- --- --- \n",
    "|   |   |   |\n",
    " --- --- --- \n",
    "|   |   |   |\n",
    " --- --- --- \n",
    "```\n",
    "\n",
    "For extra point:\n",
    "1. Generate solution by asking the user what size game board they want to draw, and draw it for them to the screen using Python’s print statement.\n",
    "\n",
    "Expected Output:\n",
    "```\n",
    "Enter the size of board you want to draw: 4\n",
    " --- --- --- ---\n",
    "|   |   |   |   |   \n",
    " --- --- --- ---\n",
    "|   |   |   |   |   \n",
    " --- --- --- ---\n",
    "|   |   |   |   |   \n",
    " --- --- --- ---\n",
    "|   |   |   |   |   \n",
    " --- --- --- ---\n",
    "```"
   ]
  },
  {
   "cell_type": "code",
   "execution_count": 11,
   "metadata": {
    "ExecuteTime": {
     "end_time": "2021-07-15T10:49:12.334543Z",
     "start_time": "2021-07-15T10:49:05.238518Z"
    }
   },
   "outputs": [
    {
     "name": "stdout",
     "output_type": "stream",
     "text": [
      "Enter the size of board you want to draw: 4\n",
      " --- --- --- ---\n",
      "|   |   |   |   |\n",
      " --- --- --- ---\n",
      "|   |   |   |   |\n",
      " --- --- --- ---\n",
      "|   |   |   |   |\n",
      " --- --- --- ---\n",
      "|   |   |   |   |\n",
      " --- --- --- ---\n"
     ]
    }
   ],
   "source": [
    "# Solution 11: \n",
    "n=int(input('Enter the size of board you want to draw: '))\n",
    "print(' ---'*n)\n",
    "for i in range(n):\n",
    "    print('|'+'   |'*n)\n",
    "    print(' ---'*n)\n",
    "\n"
   ]
  },
  {
   "cell_type": "markdown",
   "metadata": {},
   "source": [
    "### Question 12: \n",
    "\n",
    "Write a python program to ask user for a string and then perform following operations:\n",
    "1. Calculate the num of digits \n",
    "2. Calculate the num of characters \n",
    "3. Calculate the num of vowels\n",
    "4. Calculate the num of lowercase letters\n",
    "5. replace ' ' with '_' in the string\n",
    "6. Print and Store the ouput to 'output.txt' file.\n",
    "\n",
    "Expected Output:\n",
    "```\n",
    "Enter string: Hello World 123\n",
    "Output printed in'output.txt'\n",
    "```\n",
    "\n",
    "Expected Output in output.txt:\n",
    "```\n",
    "The entered string is: Hello World 123\n",
    "The number of digits is: 3\n",
    "The number of characters is: 15\n",
    "The number of vowels is: 3\n",
    "The number of lowercase letters is: 8\n",
    "The modified string is: Hello_World_123\n",
    "```"
   ]
  },
  {
   "cell_type": "code",
   "execution_count": 12,
   "metadata": {
    "ExecuteTime": {
     "end_time": "2021-07-15T10:50:00.485938Z",
     "start_time": "2021-07-15T10:49:37.827544Z"
    }
   },
   "outputs": [
    {
     "name": "stdout",
     "output_type": "stream",
     "text": [
      "Enter string: Hello World 123\n",
      "Output printed in'output.txt'\n",
      "The entered string is: Hello World 123\n",
      "The number of digits is: 3\n",
      "The number of characters is: 15\n",
      "The number of vowels is: 3\n",
      "The number of lowercase letters is: 8\n",
      "The modified string is: Hello_World_123\n",
      "\n"
     ]
    }
   ],
   "source": [
    "# Solution 12: \n",
    "import re\n",
    "a=input('Enter string: ')\n",
    "count=0\n",
    "vowels=[]\n",
    "new_str=a.replace(' ','_')\n",
    "for i in a:\n",
    "    if i.isdigit():\n",
    "        count += 1\n",
    "    if 'a' == i:\n",
    "        vowels.append(i)\n",
    "    elif 'e' == i:\n",
    "        vowels.append(i)\n",
    "    elif 'i' == i:\n",
    "        vowels.append(i)\n",
    "    elif 'o' == i:\n",
    "        vowels.append(i)\n",
    "    elif 'u' == i:\n",
    "        vowels.append(i)\n",
    "print(\"Output printed in'output.txt'\")\n",
    "file=open('output.txt',mode='w')\n",
    "file.write('The entered string is: '+a +'\\n')\n",
    "file.write('The number of digits is: '+str(count) +'\\n')\n",
    "file.write('The number of characters is: '+str(len(a)) +'\\n')\n",
    "file.write('The number of vowels is: '+str(len(vowels)) +'\\n')\n",
    "file.write('The number of lowercase letters is: '+str(len(re.findall('[a-z]',a))) +'\\n')\n",
    "file.write('The modified string is: '+str(new_str) +'\\n')\n",
    "file.close()\n",
    "file_read=open('output.txt',mode='r')\n",
    "str1=file_read.read()\n",
    "print(str1)\n"
   ]
  },
  {
   "cell_type": "markdown",
   "metadata": {},
   "source": [
    "### Question 13: \n",
    "\n",
    "Write a python program using function that takes as input three variables from user, and returns the largest of the three. Do this without using the Python **`max()`** function!\n",
    "\n",
    "Expected Output:\n",
    "```\n",
    "Please enter three integers separated by comma: 12, 66, 31\n",
    "The maximum value is: 66 \n",
    "```"
   ]
  },
  {
   "cell_type": "code",
   "execution_count": 50,
   "metadata": {
    "ExecuteTime": {
     "end_time": "2021-07-15T12:29:50.496269Z",
     "start_time": "2021-07-15T12:29:40.852937Z"
    }
   },
   "outputs": [
    {
     "name": "stdout",
     "output_type": "stream",
     "text": [
      "Please enter three integers separated by comma: 12,66,31\n",
      "The maximum value is: 66\n"
     ]
    }
   ],
   "source": [
    "# Solution 13: \n",
    "def max(str1):\n",
    "    list1 = str1.split(',')\n",
    "    max_number=0\n",
    "    for i in list1:\n",
    "        sub_number =int(i)\n",
    "        if sub_number>max_number:\n",
    "            max_number=sub_number\n",
    "    return max_number\n",
    "str1 = input('Please enter three integers separated by comma: ')\n",
    "print('The maximum value is: '+ str(max(str1)))\n",
    "\n"
   ]
  },
  {
   "cell_type": "markdown",
   "metadata": {},
   "source": [
    "### Question 14: \n",
    "\n",
    "Write a python program where user, will have a number in head between 0 and 100. The program will guess a number, and you, the user, will say whether it is too \"high\", too \"low\", or your number. Also, in the end program should print out how many guesses it took to get your number.\n",
    "\n",
    "Expected Output:\n",
    "```\n",
    "Guess a number between 0 and 100 and tell whether high or low when prompted!\n",
    "My guess is 50. Is that high, low or same? low\n",
    "My guess is 75. Is that high, low or same? low\n",
    "My guess is 88. Is that high, low or same? low\n",
    "My guess is 94. Is that high, low or same? low\n",
    "My guess is 97. Is that high, low or same? low\n",
    "My guess is 99. Is that high, low or same? same\n",
    "Congrats to me! I guessed it in 6 tries.\n",
    "```"
   ]
  },
  {
   "cell_type": "code",
   "execution_count": 14,
   "metadata": {
    "ExecuteTime": {
     "end_time": "2021-07-15T10:52:29.806785Z",
     "start_time": "2021-07-15T10:51:15.566251Z"
    }
   },
   "outputs": [
    {
     "name": "stdout",
     "output_type": "stream",
     "text": [
      "Guess a number between 0 and 100 and tell whether high or low when prompted!\n",
      "50\n",
      "My guess is 50. Is that high, low or same? low\n",
      "75\n",
      "My guess is 75. Is that high, low or same? low\n",
      "87\n",
      "My guess is 87. Is that high, low or same? high\n",
      "81\n",
      "My guess is 81. Is that high, low or same? low\n",
      "84\n",
      "My guess is 84. Is that high, low or same? low\n",
      "86\n",
      "My guess is 86. Is that high, low or same? same\n",
      "Congrats to me! I guessed it in 6 tries.\n"
     ]
    }
   ],
   "source": [
    "# Solution 14: \n",
    "import random\n",
    "g=random.randint(0,100)\n",
    "print('Guess a number between 0 and 100 and tell whether high or low when prompted!')\n",
    "f =0\n",
    "count = 0\n",
    "while f ==0:\n",
    "    n=int(input())\n",
    "    if n>g:\n",
    "        print('My guess is '+str(n)+'. Is that high, low or same? high')\n",
    "        count  +=1\n",
    "    elif n<g:\n",
    "        count +=1\n",
    "        print('My guess is '+str(n)+'. Is that high, low or same? low')\n",
    "    else:\n",
    "        print('My guess is '+str(n)+'. Is that high, low or same? same')\n",
    "        count +=1\n",
    "        f =1\n",
    "        print('Congrats to me! I guessed it in '+str(count)+' tries.')\n",
    "\n",
    "\n"
   ]
  },
  {
   "cell_type": "markdown",
   "metadata": {},
   "source": [
    "### Question 15: \n",
    "\n",
    "Write a python program using function that takes an list(ordered) of numbers (from smallest to largest) and another number. The function decides whether or not the given number is inside the list and returns (then prints) an appropriate boolean.\n",
    "\n",
    ">Hint: Use binary search.\n",
    "\n",
    "Expected Output:\n",
    "```\n",
    "List:  [2, 4, 6, 8, 10]\n",
    "Find  '5': False\n",
    "Find '10': True\n",
    "Find '-1': False\n",
    "Find  '2': True\n",
    "```\n",
    "\n",
    "For extra point:\n",
    "1. Generate list randomly and select he number randomly to be search from the list."
   ]
  },
  {
   "cell_type": "code",
   "execution_count": 51,
   "metadata": {
    "ExecuteTime": {
     "end_time": "2021-07-15T12:31:44.321729Z",
     "start_time": "2021-07-15T12:31:30.952358Z"
    }
   },
   "outputs": [
    {
     "name": "stdout",
     "output_type": "stream",
     "text": [
      "List:   [1, 4, 2, 5, 3]\n",
      "Find  '8\n",
      "8 : False\n"
     ]
    }
   ],
   "source": [
    "# Solution 15: \n",
    "import random\n",
    "list1 =[random.randint(0, 10) for i in range(5)]\n",
    "sorted_list1=sorted(list1)\n",
    "print('List:  ',str(list1))\n",
    "g =0\n",
    "while g==0:\n",
    "    n = int(input(\"Find  '\"))\n",
    "    if n in sorted_list1:\n",
    "        print(str(n),': True')\n",
    "    else:\n",
    "        g=1\n",
    "        print(str(n),': False')\n",
    "\n"
   ]
  },
  {
   "cell_type": "markdown",
   "metadata": {},
   "source": [
    "### Question 16: \n",
    "\n",
    "Write a python program to generate password. Be creative with how you generate passwords - strong passwords have a mix of lowercase letters, uppercase letters, numbers, and symbols. The passwords should be random, generating a new password every time the user asks for a new password. Include your code in a main method.\n",
    "\n",
    "Expected Output:\n",
    "```\n",
    "Please choose strong or weak:\n",
    "strong\n",
    "password: 6|Av.0T^9\n",
    "do you want a new password? y/n\n",
    "n\n",
    "```\n",
    "\n",
    "For extra points:\n",
    "1. Ask the user if they want password to be strong(9 characters) or weak(6 characters)?"
   ]
  },
  {
   "cell_type": "code",
   "execution_count": 52,
   "metadata": {
    "ExecuteTime": {
     "end_time": "2021-07-15T12:32:53.883267Z",
     "start_time": "2021-07-15T12:32:43.894974Z"
    }
   },
   "outputs": [
    {
     "name": "stdout",
     "output_type": "stream",
     "text": [
      "Please choose strong or weak:strong\n",
      "password: VxiOJ@b1r\n",
      "do you want a new password? y/n\n",
      "n\n"
     ]
    }
   ],
   "source": [
    "# Solution 16: \n",
    "import random\n",
    "b= input('Please choose strong or weak:')\n",
    "g = 0\n",
    "while g==0:\n",
    "    if b=='strong':\n",
    "        print('password:',''.join(random.sample(\"1234567890abcdefghijklmnopqrstuvwxyz!@#$%^&*()QWERTYUIOPASDFGHJKLZXCVBNM\",9)))\n",
    "    if b =='weak':\n",
    "        print('password:',''.join(random.sample(\"1234567890abcdefghijklmnopqrstuvwxyz!@#$%^&*()\",6)))\n",
    "    print('do you want a new password? y/n')\n",
    "    n=input()\n",
    "    if n=='n':\n",
    "        g=1\n"
   ]
  },
  {
   "cell_type": "markdown",
   "metadata": {},
   "source": [
    "### Question 17: \n",
    "\n",
    "Write a python program using function that picks a random word from a list of words from the **[dictionary](https://github.com/milaan9/92_Python_Assignments/blob/main/sowpods.txt)**. Each line in the file contains a single word.\n",
    "\n",
    ">Hint: use the Python random library for picking a random word.\n",
    "\n",
    "Expected Output:\n",
    "```\n",
    "Random word: POTENTIATING\n",
    "```"
   ]
  },
  {
   "cell_type": "code",
   "execution_count": 17,
   "metadata": {
    "ExecuteTime": {
     "end_time": "2021-07-15T10:54:25.573537Z",
     "start_time": "2021-07-15T10:54:25.458843Z"
    }
   },
   "outputs": [
    {
     "name": "stdout",
     "output_type": "stream",
     "text": [
      "Random word:  BEGUILINGLY\n",
      "\n"
     ]
    }
   ],
   "source": [
    "# Solution 17: \n",
    "import random\n",
    "file=open('sowpods.txt',mode='r')\n",
    "t=file.readlines()\n",
    "print('Random word: ',t[random.randint(0, len(t))])\n",
    "\n"
   ]
  },
  {
   "cell_type": "markdown",
   "metadata": {},
   "source": [
    "### Question 18: \n",
    "\n",
    "Write a python program where a text(.txt) file is given **[nameslist.txt](https://github.com/milaan9/92_Python_Assignments/blob/main/nameslist.txt)** that contains list of a bunch of names, count how many of each name there are in the file, and print out the results to the screen. \n",
    "\n",
    "Expected Output:\n",
    "```\n",
    "{'Darth': 31, 'Luke': 15, 'Leia': 54}\n",
    "```\n",
    "\n",
    "For extra point:\n",
    "1. Instead of using the **[nameslist.txt](https://github.com/milaan9/92_Python_Assignments/blob/main/nameslist.txt)** file from above (or instead of, if you want the challenge), take this **[SUN_Database.txt](https://github.com/milaan9/92_Python_Assignments/blob/main/SUN_Database.txt)** file, and count how many of each “category” of each image there are. This text file is actually a list of files corresponding to the SUN database scene recognition database, and lists the file directory hierarchy for the images. Once you take a look at the first line or two of the file, it will be clear which part represents the scene category.\n",
    "\n",
    "Expected Output:\n",
    "```\n",
    "abbey: 50\n",
    "airplane_cabin: 50\n",
    "airport_terminal: 50\n",
    "alley: 50\n",
    "amphitheater: 50\n",
    "...\n",
    "...\n",
    "...\n",
    "wrestling_ring: 50\n",
    "yard: 50\n",
    "youth_hostel: 50\n",
    "```"
   ]
  },
  {
   "cell_type": "code",
   "execution_count": 19,
   "metadata": {
    "ExecuteTime": {
     "end_time": "2021-07-15T10:55:22.546253Z",
     "start_time": "2021-07-15T10:55:22.538214Z"
    }
   },
   "outputs": [
    {
     "name": "stdout",
     "output_type": "stream",
     "text": [
      "{'Leia': 54, 'Darth': 31, 'Luke': 15}\n"
     ]
    }
   ],
   "source": [
    "# Solution 18: \n",
    "from collections import Counter\n",
    "f=open('nameslist.txt',mode='r')\n",
    "t=f.read()\n",
    "t=t.split('\\n')\n",
    "count = str(Counter(t)).split('(')[1]\n",
    "count_end = count.split(')')[0]\n",
    "\n",
    "print(count_end)\n",
    "\n"
   ]
  },
  {
   "cell_type": "markdown",
   "metadata": {},
   "source": [
    "### Question 19: \n",
    "\n",
    "Write a python program where two .txt files are given that have lists of numbers in them, find the numbers that are overlapping. One '**[primenumbers1_1000.txt](https://github.com/milaan9/92_Python_Assignments/blob/main/primenumbers1_1000.txt)**' file has a list of all prime numbers under 1000, and the other '**[happynumbers1_1000.txt](https://github.com/milaan9/92_Python_Assignments/blob/main/happynumbers1_1000.txt)**' file has a list of **[happy numbers](https://en.wikipedia.org/wiki/Happy_number)** up to 1000.\n",
    "\n",
    "Expected Output:\n",
    "```\n",
    "The list of overlapping numbers:\n",
    " [7, 13, 19, 23, 31, 79, 97, 103, 109, 139, 167, 193, 239, 263, 293, 313, 331, 367, 379, 383, 397, 409, 487, 563, 617, 653, 673, 683, 709, 739, 761, 863, 881, 907, 937]\n",
    "```\n",
    "\n",
    "For extra point:\n",
    "1. Generate solution with functions using list comprehensions"
   ]
  },
  {
   "cell_type": "code",
   "execution_count": 39,
   "metadata": {
    "ExecuteTime": {
     "end_time": "2021-07-15T12:12:20.661445Z",
     "start_time": "2021-07-15T12:12:20.649340Z"
    }
   },
   "outputs": [
    {
     "name": "stdout",
     "output_type": "stream",
     "text": [
      "The list of overlapping numbers:\n",
      "['19', '379', '139', '167', '23', '13', '31', '193', '487', '683', '313', '653', '263', '937', '563', '673', '79', '331', '239', '907', '617', '109', '383', '739', '761', '7', '293', '367', '103', '709', '881', '397', '97']\n"
     ]
    }
   ],
   "source": [
    "# Solution 19: \n",
    "f1=open('happynumbers1_1000.txt',mode='r')\n",
    "t1=f1.read()\n",
    "t1=t1.split('\\n')\n",
    "f2=open('primenumbers1_1000.txt',mode='r')\n",
    "t2=f2.read()\n",
    "t2=t2.split('\\n')\n",
    "print('The list of overlapping numbers:')\n",
    "print(str(list(set(t1)&set(t2))))\n",
    "\n"
   ]
  },
  {
   "cell_type": "markdown",
   "metadata": {},
   "source": [
    "### Question 20: \n",
    "\n",
    "Create a function that takes a string as an argument and returns the Morse code equivalent.\n",
    "\n",
    "For example:\n",
    "```\n",
    "encode_morse(\"HELP ME !\") ➞ \".... . .-.. .--.   -- .   -.-.--\"\n",
    "```\n",
    "\n",
    "Expected Output:\n",
    "```\n",
    "Enter a sentence: I love\n",
    "..   .-.. --- ...- .\n",
    "Enter morse code: .--. -.-- - .... --- -.\n",
    "PYTHON\n",
    "```\n",
    "\n",
    "This dictionary can be used for coding:\n",
    "```\n",
    "char_to_dots = {\n",
    "    'A': '.-',   'B': '-...', 'C': '-.-.', 'D': '-..',  'E': '.',    'F': '..-.',\n",
    "    'G': '--.',  'H': '....', 'I': '..',   'J': '.---', 'K': '-.-',  'L': '.-..',\n",
    "    'M': '--',   'N': '-.',   'O': '---',  'P': '.--.', 'Q': '--.-', 'R': '.-.',\n",
    "    'S': '...',  'T': '-',    'U': '..-',  'V': '...-', 'W': '.--',  'X': '-..-',\n",
    "    'Y': '-.--', 'Z': '--..',  \n",
    "        \n",
    "    '0': '-----', '1': '.----', '2': '..---', '3': '...--', '4': '....-', \n",
    "    '5': '.....', '6': '-....', '7': '--...', '8': '---..', '9': '----.',\n",
    "        \n",
    "    ' ': ' ',      '&': '.-...',  \"'\": '.----.', '@': '.--.-.', ')': '-.--.-', \n",
    "    '(': '-.--.',  ':': '---...', ',': '--..--', '=': '-...-',  '!': '-.-.--', \n",
    "    '.': '.-.-.-', '-': '-....-', '+': '.-.-.', '\"': '.-..-.',  '?': '..--..', \n",
    "    '/': '-..-.'\n",
    "}\n",
    "```"
   ]
  },
  {
   "cell_type": "code",
   "execution_count": 54,
   "metadata": {
    "ExecuteTime": {
     "end_time": "2021-07-15T12:35:13.279528Z",
     "start_time": "2021-07-15T12:35:04.111050Z"
    }
   },
   "outputs": [
    {
     "name": "stdout",
     "output_type": "stream",
     "text": [
      "Enter a sentence: I love\n",
      "..   .-.. --- ...- . \n",
      "Enter morse code: .--. -.-- - .... --- -.\n",
      "PYTHON\n"
     ]
    }
   ],
   "source": [
    "# Solution 20: \n",
    "\n",
    "char_to_dots = {\n",
    "    'A': '.-',   'B': '-...', 'C': '-.-.', 'D': '-..',  'E': '.',    'F': '..-.',\n",
    "    'G': '--.',  'H': '....', 'I': '..',   'J': '.---', 'K': '-.-',  'L': '.-..',\n",
    "    'M': '--',   'N': '-.',   'O': '---',  'P': '.--.', 'Q': '--.-', 'R': '.-.',\n",
    "    'S': '...',  'T': '-',    'U': '..-',  'V': '...-', 'W': '.--',  'X': '-..-',\n",
    "    'Y': '-.--', 'Z': '--..',  \n",
    "\n",
    "    '0': '-----', '1': '.----', '2': '..---', '3': '...--', '4': '....-', \n",
    "    '5': '.....', '6': '-....', '7': '--...', '8': '---..', '9': '----.',\n",
    "\n",
    "    ' ': ' ',      '&': '.-...',  \"'\": '.----.', '@': '.--.-.', ')': '-.--.-', \n",
    "    '(': '-.--.',  ':': '---...', ',': '--..--', '=': '-...-',  '!': '-.-.--', \n",
    "    '.': '.-.-.-', '-': '-....-', '+': '.-.-.', '\"': '.-..-.',  '?': '..--..', \n",
    "    '/': '-..-.'\n",
    "}\n",
    "def morse(str1,char_to_dots):\n",
    "    mode =''\n",
    "    for i in str1:\n",
    "        str_mode = char_to_dots[i]\n",
    "        mode += str_mode+' '\n",
    "    return mode\n",
    "\n",
    "\n",
    "str1 = input('Enter a sentence: ')\n",
    "str1=str1.upper()\n",
    "print(morse(str1,char_to_dots))\n",
    "b =input('Enter morse code: ')\n",
    "b_listx = b.split(' ')\n",
    "word = ''\n",
    "for j in b_listx:\n",
    "    word+=list(char_to_dots.keys())[list(char_to_dots.values()).index(j)][0]\n",
    "print(word)\n",
    "\n"
   ]
  },
  {
   "cell_type": "code",
   "execution_count": null,
   "metadata": {},
   "outputs": [],
   "source": []
  }
 ],
 "metadata": {
  "hide_input": false,
  "kernelspec": {
   "display_name": "Python 3",
   "language": "python",
   "name": "python3"
  },
  "language_info": {
   "codemirror_mode": {
    "name": "ipython",
    "version": 3
   },
   "file_extension": ".py",
   "mimetype": "text/x-python",
   "name": "python",
   "nbconvert_exporter": "python",
   "pygments_lexer": "ipython3",
   "version": "3.7.0"
  },
  "toc": {
   "base_numbering": 1,
   "nav_menu": {},
   "number_sections": true,
   "sideBar": true,
   "skip_h1_title": false,
   "title_cell": "Table of Contents",
   "title_sidebar": "Contents",
   "toc_cell": false,
   "toc_position": {},
   "toc_section_display": true,
   "toc_window_display": false
  },
  "varInspector": {
   "cols": {
    "lenName": 16,
    "lenType": 16,
    "lenVar": 40
   },
   "kernels_config": {
    "python": {
     "delete_cmd_postfix": "",
     "delete_cmd_prefix": "del ",
     "library": "var_list.py",
     "varRefreshCmd": "print(var_dic_list())"
    },
    "r": {
     "delete_cmd_postfix": ") ",
     "delete_cmd_prefix": "rm(",
     "library": "var_list.r",
     "varRefreshCmd": "cat(var_dic_list()) "
    }
   },
   "types_to_exclude": [
    "module",
    "function",
    "builtin_function_or_method",
    "instance",
    "_Feature"
   ],
   "window_display": false
  }
 },
 "nbformat": 4,
 "nbformat_minor": 2
}
